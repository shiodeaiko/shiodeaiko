{
  "nbformat": 4,
  "nbformat_minor": 0,
  "metadata": {
    "colab": {
      "name": "nbr_list.ipynb",
      "provenance": [],
      "authorship_tag": "ABX9TyNOkzn36B+dXnz4rpg5eDNi",
      "include_colab_link": true
    },
    "kernelspec": {
      "name": "python3",
      "display_name": "Python 3"
    },
    "language_info": {
      "name": "python"
    }
  },
  "cells": [
    {
      "cell_type": "markdown",
      "metadata": {
        "id": "view-in-github",
        "colab_type": "text"
      },
      "source": [
        "<a href=\"https://colab.research.google.com/github/shiodeaiko/shiodeaiko/blob/main/nbr_list.ipynb\" target=\"_parent\"><img src=\"https://colab.research.google.com/assets/colab-badge.svg\" alt=\"Open In Colab\"/></a>"
      ]
    },
    {
      "cell_type": "code",
      "source": [
        "import networkx as nx\n",
        "import matplotlib.pyplot as plt\n",
        "import numpy as np"
      ],
      "metadata": {
        "id": "wiJRRSd5W7vP"
      },
      "execution_count": 1,
      "outputs": []
    },
    {
      "cell_type": "code",
      "source": [
        "#グラフの生成\n",
        "G=nx.Graph()\n",
        "G.add_nodes_from([0,1,2,3,4])\n",
        "G.add_edges_from([(0,3),(0,4),(1,2),(1,3),(2,3),(2,4),(3,4)])\n",
        "pos = nx.spring_layout(G)\n",
        "nx.draw_networkx(G,node_color=\"r\")\n",
        "\n",
        "\n",
        "edge_list = list(G.edges)\n",
        "print(\"エッジリスト：\" +str(edge_list))\n",
        "\n",
        "#隣接リスト作成\n",
        "nbr_mtx=nx.to_numpy_matrix(G)  # 隣接行列\n",
        "print(\"隣接行列：\")\n",
        "print(nbr_mtx)\n",
        "nbr_mtx_list = nbr_mtx.tolist() # リスト型に変換\n",
        "\n",
        "n = nx.number_of_nodes(G) #ノード数\n",
        "nbr_list = []\n",
        "\n",
        "#重み付き隣接リスト\n",
        "nbr_list_w = [[] for i in range(n)]\n",
        "for i in range(n):\n",
        "   for j in range(n):\n",
        "       if nbr_mtx_list[i][j] > 0:\n",
        "           a = [j, 1.0] #重みはすべて1.0\n",
        "           nbr_list_w[i].append(a)\n",
        "\n",
        "print(\"重み付き隣接リスト：\")\n",
        "print(nbr_list_w)"
      ],
      "metadata": {
        "colab": {
          "base_uri": "https://localhost:8080/",
          "height": 432
        },
        "id": "-4f0x2atXfPI",
        "outputId": "420b22da-0410-4cc7-8d2b-3b5894da99f6"
      },
      "execution_count": 2,
      "outputs": [
        {
          "output_type": "stream",
          "name": "stdout",
          "text": [
            "エッジリスト：[(0, 3), (0, 4), (1, 2), (1, 3), (2, 3), (2, 4), (3, 4)]\n",
            "隣接行列：\n",
            "[[0. 0. 0. 1. 1.]\n",
            " [0. 0. 1. 1. 0.]\n",
            " [0. 1. 0. 1. 1.]\n",
            " [1. 1. 1. 0. 1.]\n",
            " [1. 0. 1. 1. 0.]]\n",
            "重み付き隣接リスト：\n",
            "[[[3, 1.0], [4, 1.0]], [[2, 1.0], [3, 1.0]], [[1, 1.0], [3, 1.0], [4, 1.0]], [[0, 1.0], [1, 1.0], [2, 1.0], [4, 1.0]], [[0, 1.0], [2, 1.0], [3, 1.0]]]\n"
          ]
        },
        {
          "output_type": "display_data",
          "data": {
            "text/plain": [
              "<Figure size 432x288 with 1 Axes>"
            ],
            "image/png": "[encoded data removed]"
          },
          "metadata": {}
        }
      ]
    }
  ]
}