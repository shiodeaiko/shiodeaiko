{
  "cells": [
    {
      "cell_type": "markdown",
      "metadata": {
        "id": "view-in-github",
        "colab_type": "text"
      },
      "source": [
        "<a href=\"https://colab.research.google.com/github/shiodeaiko/shiodeaiko/blob/main/nennkinn_maze.ipynb\" target=\"_parent\"><img src=\"https://colab.research.google.com/assets/colab-badge.svg\" alt=\"Open In Colab\"/></a>"
      ]
    },
    {
      "cell_type": "code",
      "execution_count": 1,
      "metadata": {
        "id": "wiJRRSd5W7vP"
      },
      "outputs": [],
      "source": [
        "#必要なライブラリのインポート\n",
        "import networkx as nx\n",
        "%matplotlib inline\n",
        "import matplotlib.pyplot as plt\n",
        "import numpy as np\n",
        "\n",
        "#アニメーション\n",
        "from matplotlib.animation import PillowWriter, FuncAnimation\n",
        "from matplotlib import animation, rc\n",
        "from IPython.display import HTML\n",
        "\n",
        "#Scipy\n",
        "from scipy import sparse\n",
        "from scipy.sparse.linalg import spsolve\n",
        "from scipy.sparse import csr_matrix"
      ]
    },
    {
      "cell_type": "markdown",
      "metadata": {
        "id": "hvehx56iXS1o"
      },
      "source": [
        "## 迷路を解く\n"
      ]
    },
    {
      "cell_type": "code",
      "source": [
        "G = nx.Graph()\n",
        "G.add_nodes_from([i for i in range(29)])\n",
        "G.add_edges_from([(0,1),(1,2),(1,3),(2,4),(2,5),(4,5),(4,6),(5,7),\n",
        "                  (6,8),(6,9),(7,10),(7,11),(9,9),(9,12),(12,13),(12,14),\n",
        "                  (13,14),(14,15),(15,16),(15,17),(15,18),(16,19),(16,20),(18,21),\n",
        "                  (18,22),(20,23),(20,24),(21,28),(21,28),(23,25),(23,26),(24,27),(24,28)])\n",
        "\n",
        "pos = {}\n",
        "pos[0] = (0,0)\n",
        "pos[1] = (1,0)\n",
        "pos[2] = (1,-1)\n",
        "pos[3] = (4,0)\n",
        "pos[4] = (3,-4)\n",
        "pos[5] = (2,-5)\n",
        "pos[6] = (4,-4)\n",
        "pos[7] = (2,-7)\n",
        "pos[8] = (4,-5)\n",
        "pos[9] = (4,-2)\n",
        "pos[10] = (0,-7)\n",
        "pos[11] = (4,-6)\n",
        "pos[12] = (5,-2)\n",
        "pos[13] = (6,-3)\n",
        "pos[14] = (6,-5)\n",
        "pos[15] = (7,-5)\n",
        "pos[16] = (8,-5)\n",
        "pos[17] = (5,-6)\n",
        "pos[18] = (7,0)\n",
        "pos[19] = (8,-6)\n",
        "pos[20] = (10,-5)\n",
        "pos[21] = (8,0)\n",
        "pos[22] = (6,-1)\n",
        "pos[23] = (10,-6)\n",
        "pos[24] = (9,-3)\n",
        "pos[25] = (10,-7)\n",
        "pos[26] = (4,-7)\n",
        "pos[27] = (10,-3)\n",
        "pos[28] = (8,-1)\n",
        "\n",
        "nx.draw_networkx(G,pos=pos)"
      ],
      "metadata": {
        "colab": {
          "base_uri": "https://localhost:8080/",
          "height": 248
        },
        "id": "nW7zZ5HZuu8u",
        "outputId": "8c8bd8fc-b51b-406a-f859-08d349678741"
      },
      "execution_count": 2,
      "outputs": [
        {
          "output_type": "display_data",
          "data": {
            "text/plain": [
              "<Figure size 432x288 with 1 Axes>"
            ],
            "image/png": "[encoded data removed]"
          },
          "metadata": {}
        }
      ]
    },
    {
      "cell_type": "code",
      "source": [
        "nbr_mtx=nx.to_numpy_matrix(G)"
      ],
      "metadata": {
        "colab": {
          "base_uri": "https://localhost:8080/",
          "height": 175
        },
        "id": "n9v3wfF_mjMm",
        "outputId": "77a4babf-f9f1-4037-925e-18ad3ddde595"
      },
      "execution_count": 6,
      "outputs": [
        {
          "output_type": "error",
          "ename": "AttributeError",
          "evalue": "ignored",
          "traceback": [
            "\u001b[0;31m---------------------------------------------------------------------------\u001b[0m",
            "\u001b[0;31mAttributeError\u001b[0m                            Traceback (most recent call last)",
            "\u001b[0;32m<ipython-input-6-2d8f11e6a17d>\u001b[0m in \u001b[0;36m<module>\u001b[0;34m\u001b[0m\n\u001b[0;32m----> 1\u001b[0;31m \u001b[0mnbr_mtx\u001b[0m\u001b[0;34m=\u001b[0m\u001b[0mnx\u001b[0m\u001b[0;34m.\u001b[0m\u001b[0mto_numpy_matrix\u001b[0m\u001b[0;34m(\u001b[0m\u001b[0mG\u001b[0m\u001b[0;34m)\u001b[0m\u001b[0;34m\u001b[0m\u001b[0;34m\u001b[0m\u001b[0m\n\u001b[0m",
            "\u001b[0;31mAttributeError\u001b[0m: module 'networkx' has no attribute 'to_numpy_matrix'"
          ]
        }
      ]
    },
    {
      "cell_type": "code",
      "execution_count": null,
      "metadata": {
        "id": "JkTMQoISYPlc"
      },
      "outputs": [],
      "source": [
        "#変数宣言\n",
        "\n",
        "nt=20\n",
        "\n",
        "#dt=1とする\n",
        "nnodes=nx.number_of_nodes(G)\n",
        "edge_list=list(G.edges)\n",
        "\n",
        "conductivity=np.zeros((nt,nnodes,nnodes)) #D\n",
        "length=np.zeros((nnodes,nnodes)) #L\n",
        "pressure=np.zeros((nt,nnodes)) #p\n",
        "flux=np.zeros(nnodes) #Q"
      ]
    },
    {
      "cell_type": "code",
      "execution_count": null,
      "metadata": {
        "id": "zB9SA4c48EQT"
      },
      "outputs": [],
      "source": [
        "#初期値と定数の設定\n",
        "conductivity[0]=nbr_mtx #各エッジの流れやすさは最初1.0\n",
        "\n",
        "len_list = [1,1,3,5,9,2,1,2,1,2,2,3,8,1,2,4,2,1,2,3,5,1,3,1,4,1,3,1,5,1,7,3,3]\n",
        "i=0\n",
        "for u,v in G.edges():\n",
        "    length[u][v]=len_list[i]\n",
        "    length[v][u]=len_list[i]\n",
        "    i +=1\n",
        "\n",
        "\n",
        "I0=1.0\n",
        "\n",
        "source_list=[0] #スタート\n",
        "sink_list=[25] #ゴール\n",
        "\n",
        "flux[0]=I0\n",
        "flux[25]=-I0\n",
        "\n",
        "gamma=1.5"
      ]
    },
    {
      "cell_type": "code",
      "execution_count": null,
      "metadata": {
        "id": "wMnkUDV-aTHM"
      },
      "outputs": [],
      "source": [
        "#ゼロ除算が発生しないように非ゼロ要素のみで割り算を行う\n",
        "def divide_non_zero_element(D,L,num_nodes,list_edges):\n",
        "    X=np.zeros((num_nodes,num_nodes))\n",
        "    for i,j in list_edges:\n",
        "        X[i,j]=D[i,j]/L[i,j]\n",
        "        X[j,i]=D[j,i]/L[j,i]\n",
        "    return X\n",
        "\n",
        "#f(Q) for dD/dt \n",
        "def f(x):\n",
        "    powered=x**gamma\n",
        "    return powered/(powered+1)\n",
        "\n",
        "#Dの時間変化量を求める\n",
        "def dD(D,L,p,num_nodes,list_edges):\n",
        "    X=divide_non_zero_element(D,L,num_nodes,list_edges)\n",
        "    Q=np.multiply(X,np.expand_dims(p,axis=1)-p)\n",
        "    ans=f(np.abs(Q))\n",
        "    return ans\n",
        "\n",
        "#一次連立方程式を解きpを求める\n",
        "def deduce_p(D,L,B,num_nodes,list_edges):\n",
        "    Y=divide_non_zero_element(D,L,num_nodes,list_edges)    \n",
        "    A=np.diag(np.sum(Y,axis=1))-Y\n",
        "    p=np.linalg.solve(A,B)\n",
        "    #\n",
        "    return p"
      ]
    },
    {
      "cell_type": "code",
      "execution_count": null,
      "metadata": {
        "id": "HzyfMbPwDd91"
      },
      "outputs": [],
      "source": [
        "#pの初期値を求める\n",
        "pressure[0]=deduce_p(conductivity[0],length,flux,nnodes,edge_list)\n",
        "\n",
        "#繰り返し計算する\n",
        "for t in range(0,nt-1):\n",
        "    conductivity[t+1]=dD(conductivity[t],length,pressure[t],nnodes,edge_list)\n",
        "    pressure[t+1]=deduce_p(conductivity[t+1],length,flux,nnodes,edge_list)"
      ]
    },
    {
      "cell_type": "code",
      "source": [
        "#conductivityの出力\n",
        "x = x = np.arange(nt)\n",
        "y = [[] for t in range(nx.number_of_edges(G))]\n",
        "\n",
        "for e in range(nx.number_of_edges(G)):\n",
        "    e1 = edge_list[e][0]\n",
        "    e2 = edge_list[e][1]\n",
        "    for t in range(nt):\n",
        "        y[e].append(conductivity[t][e1][e2])\n",
        "    plt.plot(x,y[e])\n",
        "\n",
        "plt.style.use('seaborn-whitegrid')\n",
        "plt.title('Conductivity')\n",
        "plt.show"
      ],
      "metadata": {
        "id": "ltimOvSfkKzT"
      },
      "execution_count": null,
      "outputs": []
    },
    {
      "cell_type": "code",
      "execution_count": null,
      "metadata": {
        "id": "yy4FxSfRa9V1"
      },
      "outputs": [],
      "source": [
        "%matplotlib nbagg\n",
        "fig=plt.figure(figsize=(8.8,6.6))\n",
        "\n",
        "datatype=[('conductivity',float)]\n",
        "\n",
        "def animate(i):\n",
        "    A=np.matrix(conductivity[i],dtype=datatype)\n",
        "    G=nx.from_numpy_matrix(A)\n",
        "    weights=[G[u][v]['conductivity']*25 for u,v in G.edges()]\n",
        "\n",
        "    plt.cla()\n",
        "    nx.draw_networkx(G,pos,width=weights,node_size=20)\n",
        "    nx.draw_networkx_nodes(G,pos,node_color=pressure[i],cmap=plt.cm.cool)\n",
        "    plt.axis('off')\n",
        "    plt.title('t=' + str(i))\n",
        "    #plt.show()\n",
        "\n",
        "\n",
        "# アニメーションの設定\n",
        "ani = animation.FuncAnimation(fig,animate,frames=nt,repeat=True,interval=100)\n",
        "\n",
        "# colabでアニメーションを動かすためのコード\n",
        "rc('animation', html='jshtml')\n",
        "ani"
      ]
    }
  ],
  "metadata": {
    "colab": {
      "provenance": [],
      "authorship_tag": "ABX9TyNQie1IiN5ROZnyqlOwKuoH",
      "include_colab_link": true
    },
    "kernelspec": {
      "display_name": "Python 3",
      "name": "python3"
    },
    "language_info": {
      "name": "python"
    }
  },
  "nbformat": 4,
  "nbformat_minor": 0
}